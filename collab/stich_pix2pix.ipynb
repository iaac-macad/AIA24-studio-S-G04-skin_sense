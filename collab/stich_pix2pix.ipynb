{
 "cells": [
  {
   "cell_type": "code",
   "execution_count": 3,
   "metadata": {},
   "outputs": [
    {
     "ename": "ImportError",
     "evalue": "DLL load failed while importing cv2: The specified module could not be found.",
     "output_type": "error",
     "traceback": [
      "\u001b[1;31m---------------------------------------------------------------------------\u001b[0m",
      "\u001b[1;31mImportError\u001b[0m                               Traceback (most recent call last)",
      "Cell \u001b[1;32mIn[3], line 1\u001b[0m\n\u001b[1;32m----> 1\u001b[0m \u001b[38;5;28;01mimport\u001b[39;00m \u001b[38;5;21;01mcv2\u001b[39;00m\n\u001b[0;32m      3\u001b[0m \u001b[38;5;28;01mdef\u001b[39;00m \u001b[38;5;21mstitch_images\u001b[39m(image1, image2):\n\u001b[0;32m      4\u001b[0m     \u001b[38;5;66;03m# Resize images if necessary (ensure they have the same height)\u001b[39;00m\n\u001b[0;32m      5\u001b[0m     \u001b[38;5;28;01mif\u001b[39;00m image1\u001b[38;5;241m.\u001b[39mshape[\u001b[38;5;241m0\u001b[39m] \u001b[38;5;241m!=\u001b[39m image2\u001b[38;5;241m.\u001b[39mshape[\u001b[38;5;241m0\u001b[39m]:\n",
      "\u001b[1;31mImportError\u001b[0m: DLL load failed while importing cv2: The specified module could not be found."
     ]
    }
   ],
   "source": [
    "import cv2\n",
    "\n",
    "def stitch_images(image1, image2):\n",
    "    # Resize images if necessary (ensure they have the same height)\n",
    "    if image1.shape[0] != image2.shape[0]:\n",
    "        image2 = cv2.resize(image2, (image1.shape[1], image1.shape[0]))\n",
    "\n",
    "    # Concatenate images horizontally\n",
    "    stitched_image = cv2.hconcat([image1, image2])\n",
    "\n",
    "    return stitched_image\n",
    "\n",
    "# Load input and target images\n",
    "input_image = cv2.imread('input_image.jpg')\n",
    "target_image = cv2.imread('target_image.jpg')\n",
    "\n",
    "# Stitch the images together\n",
    "stitched_image = stitch_images(input_image, target_image)\n",
    "\n",
    "# Save or use the stitched image\n",
    "cv2.imwrite('stitched_image.jpg', stitched_image)  # Save the stitched image\n",
    "# cv2.imshow('Stitched Image', stitched_image)  # Display the stitched image\n",
    "# cv2.waitKey(0)  # Wait for key press to close the window\n",
    "# cv2.destroyAllWindows()  # Close all OpenCV windows\n"
   ]
  }
 ],
 "metadata": {
  "kernelspec": {
   "display_name": "facade2comfort",
   "language": "python",
   "name": "python3"
  },
  "language_info": {
   "codemirror_mode": {
    "name": "ipython",
    "version": 3
   },
   "file_extension": ".py",
   "mimetype": "text/x-python",
   "name": "python",
   "nbconvert_exporter": "python",
   "pygments_lexer": "ipython3",
   "version": "3.8.18"
  }
 },
 "nbformat": 4,
 "nbformat_minor": 2
}
