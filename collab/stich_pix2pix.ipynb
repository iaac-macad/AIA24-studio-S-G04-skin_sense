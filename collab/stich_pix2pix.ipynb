{
 "cells": [
  {
   "cell_type": "markdown",
   "metadata": {},
   "source": [
    "Script to Stich the images vertically"
   ]
  },
  {
   "cell_type": "code",
   "execution_count": 12,
   "metadata": {},
   "outputs": [],
   "source": [
    "import cv2\n",
    "import os\n",
    "\n",
    "def stitch_images(image_path1, image_path2):\n",
    "    # Load images from provided paths\n",
    "    image1 = cv2.imread(image_path1)\n",
    "    image2 = cv2.imread(image_path2)\n",
    "\n",
    "    # Check if images are loaded successfully\n",
    "    if image1 is None or image2 is None:\n",
    "        print(f\"Error: One or both images could not be loaded. Image 1: {image1}, Image 2: {image2}\")\n",
    "        return None\n",
    "\n",
    "    # Resize images if necessary (ensure they have the same height)\n",
    "    if image1.shape[0] != image2.shape[0]:\n",
    "        image2 = cv2.resize(image2, (image1.shape[1], image1.shape[0]))\n",
    "\n",
    "    # Concatenate images horizontally\n",
    "    stitched_image = cv2.hconcat([image1, image2])\n",
    "\n",
    "    return stitched_image\n",
    "\n",
    "# Folder paths for images\n",
    "folder_A = r'D:\\Master in Computation design\\MODULE 3\\studio\\github repo\\Studio_G04\\datasets\\raw_images\\rgb'\n",
    "folder_B = r'D:\\Master in Computation design\\MODULE 3\\studio\\github repo\\Studio_G04\\datasets\\raw_images\\performance map'\n",
    "folder_D = r'D:\\Master in Computation design\\MODULE 3\\studio\\github repo\\Studio_G04\\datasets\\stiched_RGB_Perfmap'\n",
    "\n",
    "# Get all image files in folder A and folder B\n",
    "files_A = [os.path.join(folder_A, file) for file in os.listdir(folder_A) if file.endswith('.png')]\n",
    "files_B = [os.path.join(folder_B, file) for file in os.listdir(folder_B) if file.endswith('.png')]\n",
    "\n",
    "# Sort the lists to ensure consistent ordering\n",
    "files_A.sort()\n",
    "files_B.sort()\n",
    "\n",
    "# Iterate through image pairs and stitch them\n",
    "for i, (file_A, file_B) in enumerate(zip(files_A, files_B)):\n",
    "    # Stitch the images together\n",
    "    stitched_image = stitch_images(file_A, file_B)\n",
    "\n",
    "    if stitched_image is not None:\n",
    "        # Determine the output file path\n",
    "        output_file_path = os.path.join(folder_D, f'{i+1}.jpg')  # Save with numbering starting from 1 and extension .jpg\n",
    "\n",
    "        # Save the stitched image to disk\n",
    "        cv2.imwrite(output_file_path, stitched_image)\n",
    "        print(f\"Stitched image saved to {output_file_path}\")\n"
   ]
  },
  {
   "cell_type": "code",
   "execution_count": 16,
   "metadata": {},
   "outputs": [
    {
     "name": "stdout",
     "output_type": "stream",
     "text": [
      "Error: One or both images could not be loaded. Image 1: None, Image 2: None\n"
     ]
    }
   ],
   "source": [
    "import cv2\n",
    "\n",
    "# Load images individually\n",
    "image1 = cv2.imread('D:\\Master in Computation design\\MODULE 3\\studio\\github repo\\Studio_G04\\datasets\\raw_images\\performance map')\n",
    "image2 = cv2.imread('D:\\Master in Computation design\\MODULE 3\\studio\\github repo\\Studio_G04\\datasets\\raw_images\\rgb')\n",
    "\n",
    "# Check if images are loaded successfully\n",
    "if image1 is None or image2 is None:\n",
    "    print(f\"Error: One or both images could not be loaded. Image 1: {image1}, Image 2: {image2}\")\n",
    "else:\n",
    "    print(\"Images loaded successfully.\")\n"
   ]
  }
 ],
 "metadata": {
  "kernelspec": {
   "display_name": "facade2comfort",
   "language": "python",
   "name": "python3"
  },
  "language_info": {
   "codemirror_mode": {
    "name": "ipython",
    "version": 3
   },
   "file_extension": ".py",
   "mimetype": "text/x-python",
   "name": "python",
   "nbconvert_exporter": "python",
   "pygments_lexer": "ipython3",
   "version": "3.8.19"
  }
 },
 "nbformat": 4,
 "nbformat_minor": 2
}
